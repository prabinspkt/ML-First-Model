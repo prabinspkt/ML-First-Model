{
  "nbformat": 4,
  "nbformat_minor": 0,
  "metadata": {
    "colab": {
      "name": "Open University Learning Analytics.ipynb",
      "provenance": [],
      "collapsed_sections": [],
      "machine_shape": "hm"
    },
    "kernelspec": {
      "name": "python3",
      "display_name": "Python 3"
    }
  },
  "cells": [
    {
      "cell_type": "code",
      "metadata": {
        "id": "nEGRHkM_w10u",
        "colab_type": "code",
        "colab": {}
      },
      "source": [
        "# Importing libraries and modules\n",
        "import numpy as np\n",
        "import pandas as pd\n",
        "from sklearn.compose import make_column_transformer\n",
        "from sklearn.preprocessing import OneHotEncoder\n",
        "from sklearn.linear_model import LogisticRegression\n",
        "from sklearn.utils import shuffle\n",
        "from sklearn.model_selection import train_test_split\n",
        "from sklearn import metrics\n",
        "\n",
        "import matplotlib.pyplot as plt\n",
        "\n",
        "# !pip install category_encoders"
      ],
      "execution_count": 0,
      "outputs": []
    },
    {
      "cell_type": "code",
      "metadata": {
        "id": "8o95EhqBxFXk",
        "colab_type": "code",
        "outputId": "6001cd5d-3cc4-4b38-d3f3-9772569d9a25",
        "colab": {
          "base_uri": "https://localhost:8080/",
          "height": 292
        }
      },
      "source": [
        "# Loading data from local machine\n",
        "columns = ['code_module', 'code_presentation', 'gender', 'region', 'highest_education', 'age_band', 'num_of_prev_attempts', 'studied_credits', 'disability', 'final_result']\n",
        "\n",
        "# from google.colab import files\n",
        "# import io\n",
        "# uploaded = files.upload()\n",
        "# df = pd.read_csv(io.BytesIO(uploaded['studentInfo.csv']), names=columns)\n",
        "df = pd.read_csv(\"https://raw.githubusercontent.com/prabinspkt/Machine-Learning-Project/master/random_sample.csv\", usecols=columns)\n",
        "# .replace(np.NaN, 'unknown')\n",
        "df.head()"
      ],
      "execution_count": 138,
      "outputs": [
        {
          "output_type": "execute_result",
          "data": {
            "text/html": [
              "<div>\n",
              "<style scoped>\n",
              "    .dataframe tbody tr th:only-of-type {\n",
              "        vertical-align: middle;\n",
              "    }\n",
              "\n",
              "    .dataframe tbody tr th {\n",
              "        vertical-align: top;\n",
              "    }\n",
              "\n",
              "    .dataframe thead th {\n",
              "        text-align: right;\n",
              "    }\n",
              "</style>\n",
              "<table border=\"1\" class=\"dataframe\">\n",
              "  <thead>\n",
              "    <tr style=\"text-align: right;\">\n",
              "      <th></th>\n",
              "      <th>code_module</th>\n",
              "      <th>code_presentation</th>\n",
              "      <th>gender</th>\n",
              "      <th>region</th>\n",
              "      <th>highest_education</th>\n",
              "      <th>age_band</th>\n",
              "      <th>num_of_prev_attempts</th>\n",
              "      <th>studied_credits</th>\n",
              "      <th>disability</th>\n",
              "      <th>final_result</th>\n",
              "    </tr>\n",
              "  </thead>\n",
              "  <tbody>\n",
              "    <tr>\n",
              "      <th>0</th>\n",
              "      <td>FFF</td>\n",
              "      <td>2014J</td>\n",
              "      <td>M</td>\n",
              "      <td>Scotland</td>\n",
              "      <td>Post Graduate Qualification</td>\n",
              "      <td>0-35</td>\n",
              "      <td>0</td>\n",
              "      <td>120</td>\n",
              "      <td>N</td>\n",
              "      <td>Pass</td>\n",
              "    </tr>\n",
              "    <tr>\n",
              "      <th>1</th>\n",
              "      <td>DDD</td>\n",
              "      <td>2013J</td>\n",
              "      <td>F</td>\n",
              "      <td>London Region</td>\n",
              "      <td>A Level or Equivalent</td>\n",
              "      <td>0-35</td>\n",
              "      <td>1</td>\n",
              "      <td>60</td>\n",
              "      <td>N</td>\n",
              "      <td>Withdrawn</td>\n",
              "    </tr>\n",
              "    <tr>\n",
              "      <th>2</th>\n",
              "      <td>BBB</td>\n",
              "      <td>2014J</td>\n",
              "      <td>F</td>\n",
              "      <td>Wales</td>\n",
              "      <td>A Level or Equivalent</td>\n",
              "      <td>0-35</td>\n",
              "      <td>0</td>\n",
              "      <td>60</td>\n",
              "      <td>N</td>\n",
              "      <td>Withdrawn</td>\n",
              "    </tr>\n",
              "    <tr>\n",
              "      <th>3</th>\n",
              "      <td>BBB</td>\n",
              "      <td>2014J</td>\n",
              "      <td>F</td>\n",
              "      <td>Yorkshire Region</td>\n",
              "      <td>A Level or Equivalent</td>\n",
              "      <td>0-35</td>\n",
              "      <td>0</td>\n",
              "      <td>120</td>\n",
              "      <td>N</td>\n",
              "      <td>Distinction</td>\n",
              "    </tr>\n",
              "    <tr>\n",
              "      <th>4</th>\n",
              "      <td>BBB</td>\n",
              "      <td>2013B</td>\n",
              "      <td>F</td>\n",
              "      <td>North Region</td>\n",
              "      <td>Lower Than A Level</td>\n",
              "      <td>0-35</td>\n",
              "      <td>0</td>\n",
              "      <td>60</td>\n",
              "      <td>N</td>\n",
              "      <td>Fail</td>\n",
              "    </tr>\n",
              "  </tbody>\n",
              "</table>\n",
              "</div>"
            ],
            "text/plain": [
              "  code_module code_presentation gender  ... studied_credits disability final_result\n",
              "0         FFF             2014J      M  ...             120          N         Pass\n",
              "1         DDD             2013J      F  ...              60          N    Withdrawn\n",
              "2         BBB             2014J      F  ...              60          N    Withdrawn\n",
              "3         BBB             2014J      F  ...             120          N  Distinction\n",
              "4         BBB             2013B      F  ...              60          N         Fail\n",
              "\n",
              "[5 rows x 10 columns]"
            ]
          },
          "metadata": {
            "tags": []
          },
          "execution_count": 138
        }
      ]
    },
    {
      "cell_type": "code",
      "metadata": {
        "id": "6BGNsy3pxr6K",
        "colab_type": "code",
        "outputId": "4bbd1dc2-edf7-493d-ca7e-1dfae10e4006",
        "colab": {
          "base_uri": "https://localhost:8080/",
          "height": 204
        }
      },
      "source": [
        "# Understanding data\n",
        "df.isna().sum()"
      ],
      "execution_count": 139,
      "outputs": [
        {
          "output_type": "execute_result",
          "data": {
            "text/plain": [
              "code_module             0\n",
              "code_presentation       0\n",
              "gender                  0\n",
              "region                  0\n",
              "highest_education       0\n",
              "age_band                0\n",
              "num_of_prev_attempts    0\n",
              "studied_credits         0\n",
              "disability              0\n",
              "final_result            0\n",
              "dtype: int64"
            ]
          },
          "metadata": {
            "tags": []
          },
          "execution_count": 139
        }
      ]
    },
    {
      "cell_type": "code",
      "metadata": {
        "id": "scpxH8DyxvO5",
        "colab_type": "code",
        "colab": {
          "base_uri": "https://localhost:8080/",
          "height": 34
        },
        "outputId": "aad2ddbc-50fb-44fc-a31a-5916b70359c7"
      },
      "source": [
        "# Feature Engineering and (One hot encoding)\n",
        "# Change the label values into four integer values, to be used for prediction later\n",
        "df['final_result'] = df['final_result'].replace(['Distinction'], 10000)\n",
        "df['final_result'] = df['final_result'].replace(['Pass'], 5000)\n",
        "df['final_result'] = df['final_result'].replace(['Withdrawn'], 1000)\n",
        "df['final_result'] = df['final_result'].replace(['Fail'], 0)\n",
        "\n",
        "print(df['final_result'].unique())"
      ],
      "execution_count": 140,
      "outputs": [
        {
          "output_type": "stream",
          "text": [
            "[ 5000  1000 10000     0]\n"
          ],
          "name": "stdout"
        }
      ]
    },
    {
      "cell_type": "code",
      "metadata": {
        "id": "dXF35ZjlUwpk",
        "colab_type": "code",
        "colab": {
          "base_uri": "https://localhost:8080/",
          "height": 292
        },
        "outputId": "ccfeae12-af9e-4a73-8ec2-7df7eb86639b"
      },
      "source": [
        "df.head()"
      ],
      "execution_count": 141,
      "outputs": [
        {
          "output_type": "execute_result",
          "data": {
            "text/html": [
              "<div>\n",
              "<style scoped>\n",
              "    .dataframe tbody tr th:only-of-type {\n",
              "        vertical-align: middle;\n",
              "    }\n",
              "\n",
              "    .dataframe tbody tr th {\n",
              "        vertical-align: top;\n",
              "    }\n",
              "\n",
              "    .dataframe thead th {\n",
              "        text-align: right;\n",
              "    }\n",
              "</style>\n",
              "<table border=\"1\" class=\"dataframe\">\n",
              "  <thead>\n",
              "    <tr style=\"text-align: right;\">\n",
              "      <th></th>\n",
              "      <th>code_module</th>\n",
              "      <th>code_presentation</th>\n",
              "      <th>gender</th>\n",
              "      <th>region</th>\n",
              "      <th>highest_education</th>\n",
              "      <th>age_band</th>\n",
              "      <th>num_of_prev_attempts</th>\n",
              "      <th>studied_credits</th>\n",
              "      <th>disability</th>\n",
              "      <th>final_result</th>\n",
              "    </tr>\n",
              "  </thead>\n",
              "  <tbody>\n",
              "    <tr>\n",
              "      <th>0</th>\n",
              "      <td>FFF</td>\n",
              "      <td>2014J</td>\n",
              "      <td>M</td>\n",
              "      <td>Scotland</td>\n",
              "      <td>Post Graduate Qualification</td>\n",
              "      <td>0-35</td>\n",
              "      <td>0</td>\n",
              "      <td>120</td>\n",
              "      <td>N</td>\n",
              "      <td>5000</td>\n",
              "    </tr>\n",
              "    <tr>\n",
              "      <th>1</th>\n",
              "      <td>DDD</td>\n",
              "      <td>2013J</td>\n",
              "      <td>F</td>\n",
              "      <td>London Region</td>\n",
              "      <td>A Level or Equivalent</td>\n",
              "      <td>0-35</td>\n",
              "      <td>1</td>\n",
              "      <td>60</td>\n",
              "      <td>N</td>\n",
              "      <td>1000</td>\n",
              "    </tr>\n",
              "    <tr>\n",
              "      <th>2</th>\n",
              "      <td>BBB</td>\n",
              "      <td>2014J</td>\n",
              "      <td>F</td>\n",
              "      <td>Wales</td>\n",
              "      <td>A Level or Equivalent</td>\n",
              "      <td>0-35</td>\n",
              "      <td>0</td>\n",
              "      <td>60</td>\n",
              "      <td>N</td>\n",
              "      <td>1000</td>\n",
              "    </tr>\n",
              "    <tr>\n",
              "      <th>3</th>\n",
              "      <td>BBB</td>\n",
              "      <td>2014J</td>\n",
              "      <td>F</td>\n",
              "      <td>Yorkshire Region</td>\n",
              "      <td>A Level or Equivalent</td>\n",
              "      <td>0-35</td>\n",
              "      <td>0</td>\n",
              "      <td>120</td>\n",
              "      <td>N</td>\n",
              "      <td>10000</td>\n",
              "    </tr>\n",
              "    <tr>\n",
              "      <th>4</th>\n",
              "      <td>BBB</td>\n",
              "      <td>2013B</td>\n",
              "      <td>F</td>\n",
              "      <td>North Region</td>\n",
              "      <td>Lower Than A Level</td>\n",
              "      <td>0-35</td>\n",
              "      <td>0</td>\n",
              "      <td>60</td>\n",
              "      <td>N</td>\n",
              "      <td>0</td>\n",
              "    </tr>\n",
              "  </tbody>\n",
              "</table>\n",
              "</div>"
            ],
            "text/plain": [
              "  code_module code_presentation  ... disability final_result\n",
              "0         FFF             2014J  ...          N         5000\n",
              "1         DDD             2013J  ...          N         1000\n",
              "2         BBB             2014J  ...          N         1000\n",
              "3         BBB             2014J  ...          N        10000\n",
              "4         BBB             2013B  ...          N            0\n",
              "\n",
              "[5 rows x 10 columns]"
            ]
          },
          "metadata": {
            "tags": []
          },
          "execution_count": 141
        }
      ]
    },
    {
      "cell_type": "code",
      "metadata": {
        "id": "AQf5Hjy2xxdq",
        "colab_type": "code",
        "colab": {
          "base_uri": "https://localhost:8080/",
          "height": 360
        },
        "outputId": "476e0153-01ac-4134-a66d-83c0d5b824e0"
      },
      "source": [
        "# Shuffle and Train Test Split\n",
        "df = shuffle(df)\n",
        "df.head()"
      ],
      "execution_count": 142,
      "outputs": [
        {
          "output_type": "execute_result",
          "data": {
            "text/html": [
              "<div>\n",
              "<style scoped>\n",
              "    .dataframe tbody tr th:only-of-type {\n",
              "        vertical-align: middle;\n",
              "    }\n",
              "\n",
              "    .dataframe tbody tr th {\n",
              "        vertical-align: top;\n",
              "    }\n",
              "\n",
              "    .dataframe thead th {\n",
              "        text-align: right;\n",
              "    }\n",
              "</style>\n",
              "<table border=\"1\" class=\"dataframe\">\n",
              "  <thead>\n",
              "    <tr style=\"text-align: right;\">\n",
              "      <th></th>\n",
              "      <th>code_module</th>\n",
              "      <th>code_presentation</th>\n",
              "      <th>gender</th>\n",
              "      <th>region</th>\n",
              "      <th>highest_education</th>\n",
              "      <th>age_band</th>\n",
              "      <th>num_of_prev_attempts</th>\n",
              "      <th>studied_credits</th>\n",
              "      <th>disability</th>\n",
              "      <th>final_result</th>\n",
              "    </tr>\n",
              "  </thead>\n",
              "  <tbody>\n",
              "    <tr>\n",
              "      <th>240</th>\n",
              "      <td>BBB</td>\n",
              "      <td>2014B</td>\n",
              "      <td>F</td>\n",
              "      <td>South West Region</td>\n",
              "      <td>A Level or Equivalent</td>\n",
              "      <td>35-55</td>\n",
              "      <td>0</td>\n",
              "      <td>60</td>\n",
              "      <td>N</td>\n",
              "      <td>10000</td>\n",
              "    </tr>\n",
              "    <tr>\n",
              "      <th>40</th>\n",
              "      <td>DDD</td>\n",
              "      <td>2014J</td>\n",
              "      <td>F</td>\n",
              "      <td>Wales</td>\n",
              "      <td>A Level or Equivalent</td>\n",
              "      <td>35-55</td>\n",
              "      <td>0</td>\n",
              "      <td>120</td>\n",
              "      <td>N</td>\n",
              "      <td>1000</td>\n",
              "    </tr>\n",
              "    <tr>\n",
              "      <th>12</th>\n",
              "      <td>DDD</td>\n",
              "      <td>2014B</td>\n",
              "      <td>F</td>\n",
              "      <td>South East Region</td>\n",
              "      <td>A Level or Equivalent</td>\n",
              "      <td>0-35</td>\n",
              "      <td>1</td>\n",
              "      <td>120</td>\n",
              "      <td>N</td>\n",
              "      <td>5000</td>\n",
              "    </tr>\n",
              "    <tr>\n",
              "      <th>285</th>\n",
              "      <td>FFF</td>\n",
              "      <td>2013J</td>\n",
              "      <td>M</td>\n",
              "      <td>South East Region</td>\n",
              "      <td>Lower Than A Level</td>\n",
              "      <td>35-55</td>\n",
              "      <td>0</td>\n",
              "      <td>60</td>\n",
              "      <td>N</td>\n",
              "      <td>10000</td>\n",
              "    </tr>\n",
              "    <tr>\n",
              "      <th>261</th>\n",
              "      <td>CCC</td>\n",
              "      <td>2014J</td>\n",
              "      <td>M</td>\n",
              "      <td>East Anglian Region</td>\n",
              "      <td>A Level or Equivalent</td>\n",
              "      <td>0-35</td>\n",
              "      <td>0</td>\n",
              "      <td>60</td>\n",
              "      <td>N</td>\n",
              "      <td>1000</td>\n",
              "    </tr>\n",
              "  </tbody>\n",
              "</table>\n",
              "</div>"
            ],
            "text/plain": [
              "    code_module code_presentation  ... disability final_result\n",
              "240         BBB             2014B  ...          N        10000\n",
              "40          DDD             2014J  ...          N         1000\n",
              "12          DDD             2014B  ...          N         5000\n",
              "285         FFF             2013J  ...          N        10000\n",
              "261         CCC             2014J  ...          N         1000\n",
              "\n",
              "[5 rows x 10 columns]"
            ]
          },
          "metadata": {
            "tags": []
          },
          "execution_count": 142
        }
      ]
    },
    {
      "cell_type": "code",
      "metadata": {
        "id": "um6ZTI6bul2h",
        "colab_type": "code",
        "colab": {
          "base_uri": "https://localhost:8080/",
          "height": 136
        },
        "outputId": "f571a2b0-7d88-48e8-8cd4-6ad67725563c"
      },
      "source": [
        "# One hot encoding\n",
        "ohe = OneHotEncoder(sparse=False)\n",
        "ohe.fit_transform(df[['code_module']])"
      ],
      "execution_count": 143,
      "outputs": [
        {
          "output_type": "execute_result",
          "data": {
            "text/plain": [
              "array([[0., 1., 0., ..., 0., 0., 0.],\n",
              "       [0., 0., 0., ..., 0., 0., 0.],\n",
              "       [0., 0., 0., ..., 0., 0., 0.],\n",
              "       ...,\n",
              "       [0., 1., 0., ..., 0., 0., 0.],\n",
              "       [0., 1., 0., ..., 0., 0., 0.],\n",
              "       [0., 0., 0., ..., 1., 0., 0.]])"
            ]
          },
          "metadata": {
            "tags": []
          },
          "execution_count": 143
        }
      ]
    },
    {
      "cell_type": "code",
      "metadata": {
        "id": "a6hpVzYSuzFF",
        "colab_type": "code",
        "colab": {
          "base_uri": "https://localhost:8080/",
          "height": 34
        },
        "outputId": "6851f104-a5bf-4093-c772-424c7a513788"
      },
      "source": [
        "ohe.categories_"
      ],
      "execution_count": 144,
      "outputs": [
        {
          "output_type": "execute_result",
          "data": {
            "text/plain": [
              "[array(['AAA', 'BBB', 'CCC', 'DDD', 'EEE', 'FFF', 'GGG'], dtype=object)]"
            ]
          },
          "metadata": {
            "tags": []
          },
          "execution_count": 144
        }
      ]
    },
    {
      "cell_type": "code",
      "metadata": {
        "id": "dKAowxa3vYaR",
        "colab_type": "code",
        "colab": {}
      },
      "source": [
        "column_trans = make_column_transformer(\n",
        "    (OneHotEncoder(), ['code_module', 'code_presentation', 'gender', 'region', 'highest_education', 'age_band', 'disability']),\n",
        "    remainder='passthrough')"
      ],
      "execution_count": 0,
      "outputs": []
    },
    {
      "cell_type": "code",
      "metadata": {
        "id": "vk05jplNv52_",
        "colab_type": "code",
        "colab": {}
      },
      "source": [
        "# Separete target and other columns used to predict target\n",
        "Y = df.final_result\n",
        "X = df.drop('final_result', axis='columns')"
      ],
      "execution_count": 0,
      "outputs": []
    },
    {
      "cell_type": "code",
      "metadata": {
        "id": "0LOBjo3wwXQZ",
        "colab_type": "code",
        "colab": {}
      },
      "source": [
        "data_matrix = column_trans.fit_transform(X)"
      ],
      "execution_count": 0,
      "outputs": []
    },
    {
      "cell_type": "code",
      "metadata": {
        "id": "a5_KwHWMsbUs",
        "colab_type": "code",
        "colab": {}
      },
      "source": [
        "# Train and test split\n",
        "# X_train, X_test, y_train, y_test = train_test_split(X, Y, test_size=0.4, random_state=4)\n",
        "# X_train = column_trans.fit_transform(X)[:300]\n",
        "# X_test = column_trans.fit_transform(X)[300:]\n",
        "\n",
        "X_train = data_matrix[:300]\n",
        "X_test = data_matrix[300:]\n",
        "\n",
        "Y_train = Y.to_numpy()[:300]\n",
        "Y_test = Y.to_numpy()[300:]"
      ],
      "execution_count": 0,
      "outputs": []
    },
    {
      "cell_type": "code",
      "metadata": {
        "id": "5-flqPIhyiIv",
        "colab_type": "code",
        "colab": {
          "base_uri": "https://localhost:8080/",
          "height": 292
        },
        "outputId": "c051c535-5ad5-4c92-9519-beae95923fc1"
      },
      "source": [
        "# Train model\n",
        "logreg = LogisticRegression(solver='lbfgs')\n",
        "logreg.fit(X_train, Y_train)"
      ],
      "execution_count": 149,
      "outputs": [
        {
          "output_type": "stream",
          "text": [
            "/usr/local/lib/python3.6/dist-packages/sklearn/linear_model/logistic.py:469: FutureWarning: Default multi_class will be changed to 'auto' in 0.22. Specify the multi_class option to silence this warning.\n",
            "  \"this warning.\", FutureWarning)\n",
            "/usr/local/lib/python3.6/dist-packages/sklearn/linear_model/logistic.py:947: ConvergenceWarning: lbfgs failed to converge. Increase the number of iterations.\n",
            "  \"of iterations.\", ConvergenceWarning)\n",
            "/usr/local/lib/python3.6/dist-packages/sklearn/linear_model/logistic.py:947: ConvergenceWarning: lbfgs failed to converge. Increase the number of iterations.\n",
            "  \"of iterations.\", ConvergenceWarning)\n",
            "/usr/local/lib/python3.6/dist-packages/sklearn/linear_model/logistic.py:947: ConvergenceWarning: lbfgs failed to converge. Increase the number of iterations.\n",
            "  \"of iterations.\", ConvergenceWarning)\n",
            "/usr/local/lib/python3.6/dist-packages/sklearn/linear_model/logistic.py:947: ConvergenceWarning: lbfgs failed to converge. Increase the number of iterations.\n",
            "  \"of iterations.\", ConvergenceWarning)\n"
          ],
          "name": "stderr"
        },
        {
          "output_type": "execute_result",
          "data": {
            "text/plain": [
              "LogisticRegression(C=1.0, class_weight=None, dual=False, fit_intercept=True,\n",
              "                   intercept_scaling=1, l1_ratio=None, max_iter=100,\n",
              "                   multi_class='warn', n_jobs=None, penalty='l2',\n",
              "                   random_state=None, solver='lbfgs', tol=0.0001, verbose=0,\n",
              "                   warm_start=False)"
            ]
          },
          "metadata": {
            "tags": []
          },
          "execution_count": 149
        }
      ]
    },
    {
      "cell_type": "code",
      "metadata": {
        "id": "LQ6v683RykDg",
        "colab_type": "code",
        "colab": {
          "base_uri": "https://localhost:8080/",
          "height": 34
        },
        "outputId": "7359c01f-20be-4335-a2b1-0136671158bd"
      },
      "source": [
        "# Test model\n",
        "Y_pred = logreg.predict(X_test)\n",
        "print(metrics.accuracy_score(Y_test, Y_pred))"
      ],
      "execution_count": 150,
      "outputs": [
        {
          "output_type": "stream",
          "text": [
            "0.3619047619047619\n"
          ],
          "name": "stdout"
        }
      ]
    },
    {
      "cell_type": "code",
      "metadata": {
        "id": "fCtZAE95ymPj",
        "colab_type": "code",
        "colab": {}
      },
      "source": [
        "# Draw observations and conclusions from model and data"
      ],
      "execution_count": 0,
      "outputs": []
    }
  ]
}